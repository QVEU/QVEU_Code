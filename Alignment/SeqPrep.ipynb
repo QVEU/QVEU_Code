{
 "cells": [
  {
   "cell_type": "code",
   "execution_count": 1,
   "id": "cabe422f",
   "metadata": {},
   "outputs": [],
   "source": [
    "from Bio import SeqIO\n",
    "def sizeSelect(inputFasta,SIZEmin,SIZEmax):        \n",
    "    FL_sequences = []  # Setup an empty list\n",
    "\n",
    "    for record in SeqIO.parse(inputFasta, \"fasta\"):\n",
    "        if (len(record.seq)>SIZEmin) & (len(record.seq)<SIZEmax) & (\"N\" not in record.seq) :        \n",
    "            FL_sequences.append(record)\n",
    "    print(\"Found %i correctly sized sequences\" % len(FL_sequences))\n",
    "    \n",
    "    SeqIO.write(FL_sequences, inputFasta+\"_sized.fasta\", \"fasta\")\n",
    "    return()"
   ]
  },
  {
   "cell_type": "code",
   "execution_count": 6,
   "id": "93a97476",
   "metadata": {},
   "outputs": [
    {
     "name": "stdout",
     "output_type": "stream",
     "text": [
      "Found 914 correctly sized sequences\n"
     ]
    },
    {
     "data": {
      "text/plain": [
       "()"
      ]
     },
     "execution_count": 6,
     "metadata": {},
     "output_type": "execute_result"
    }
   ],
   "source": [
    "inputFasta=\"/Users/bakhachew2/Desktop/Alignment/730946509707-CdsFastaResults_EVA71.fasta\"\n",
    "sizeSelect(inputFasta, 6000,10000)"
   ]
  },
  {
   "cell_type": "code",
   "execution_count": 7,
   "id": "2abdbf63",
   "metadata": {},
   "outputs": [],
   "source": [
    "def seqTrim(inputAln,start,end):\n",
    "    sequences = []  # Setup an empty list\n",
    "\n",
    "    for record in SeqIO.parse(inputAln, \"fasta\"):\n",
    "        sequences.append(record[start:end])\n",
    "        \n",
    "    SeqIO.write(sequences, inputAln+\"_CprME_trim.fasta\", \"fasta\")"
   ]
  },
  {
   "cell_type": "code",
   "execution_count": null,
   "id": "bbe7cf20",
   "metadata": {},
   "outputs": [],
   "source": [
    "seqTrim(\"./Protein_Distances/All_Dengue_Zika_Contemporary_CDS_FL.fasta_codonAlign.aln\",0,2385)"
   ]
  },
  {
   "cell_type": "code",
   "execution_count": null,
   "id": "99d585c0",
   "metadata": {},
   "outputs": [],
   "source": [
    "seqTrim(\"./Protein_Distances/DENV1_FL_CDS_2.6K.fasta_codonAlign.aln\",0,2325)"
   ]
  },
  {
   "cell_type": "code",
   "execution_count": null,
   "id": "b72f59fe",
   "metadata": {},
   "outputs": [],
   "source": [
    "seqTrim(\"./Protein_Distances/DENV2_FL_CDS_1.8K.fasta_codonAlign.aln\",0,2427)"
   ]
  },
  {
   "cell_type": "code",
   "execution_count": null,
   "id": "5935a8d3",
   "metadata": {},
   "outputs": [],
   "source": [
    "seqTrim(\"./Protein_Distances/ZIKV_FL_CDS_900.fasta_codonAlign.aln\",0,2382)"
   ]
  },
  {
   "cell_type": "code",
   "execution_count": 8,
   "id": "a93e32bb",
   "metadata": {},
   "outputs": [],
   "source": [
    "seqTrim(\"../../FlaviAnalysis_41022/AllFlavi_NoZIKV.fasta_sized.fasta_codonAlign.aln\",0,2583)\n"
   ]
  },
  {
   "cell_type": "code",
   "execution_count": 9,
   "id": "03281a3b",
   "metadata": {},
   "outputs": [],
   "source": [
    "seqTrim(\"../../FlaviAnalysis_41022/SW_sequences/All_SW_sequences.fa_basic.aln_codonAlign.aln\",0,2385)"
   ]
  },
  {
   "cell_type": "code",
   "execution_count": 11,
   "id": "935ff3cd",
   "metadata": {},
   "outputs": [],
   "source": [
    "seqTrim(\"../../FlaviAnalysis_41022/ZIKA_FL_CDS.fasta_sized.fasta_codonAlign.aln\",0,2382)"
   ]
  },
  {
   "cell_type": "code",
   "execution_count": 2,
   "id": "521557de",
   "metadata": {},
   "outputs": [],
   "source": [
    "from Bio import Seq"
   ]
  },
  {
   "cell_type": "code",
   "execution_count": 59,
   "id": "13f3b47a",
   "metadata": {},
   "outputs": [],
   "source": [
    "def Nomerator(inputAln):\n",
    "    sequences=[]\n",
    "    ID=0\n",
    "    for record in SeqIO.parse(inputAln, \"fasta\"):\n",
    "        ID+=1\n",
    "        splits=record.id.split(\"|\")\n",
    "        #print(splits)\n",
    "        record.id=str(ID)+\"|\"+splits[0].replace(\"gb:\",\"\")+\"|\"+splits[1].replace(\"Organism:\",\"\").replace(\"Yellow_fever_virus\",\"YFV\").replace(\"Dengue_virus_\",\"DENV\").replace(\"Powassan_virus\",\"POWV\").replace(\"Japanese_encephalitis_virus\",\"JEV\").replace(\"West_Nile_virus\",\"WNV\").replace(\"Tick-borne_encephalitis_virus\",\"TBEV\").replace(\"Murray_Valley_encephalitis_virus\",\"MVEV\")+\"|FL\"\n",
    "        #record.id=str(ID)+\"|\"+splits[0].replace(\"gb:\",\"\")+\"|ZK\"\n",
    "        record.description=\"\"\n",
    "        seqString=record.seq\n",
    "        record.seq=seqString.ungap(\"-\")+\"TAA\"\n",
    "        #print(record)\n",
    "        sequences.append(record)\n",
    "    return(sequences)\n",
    "\n",
    "def Gapperator(inputAln):\n",
    "    sequences=[]\n",
    "    for record in SeqIO.parse(inputAln, \"fasta\"):\n",
    "        #print(splits)\n",
    "        seqString=record.seq\n",
    "        record.seq=seqString.ungap(\"-\")\n",
    "        #print(record)\n",
    "        sequences.append(record)\n",
    "    return(sequences)"
   ]
  },
  {
   "cell_type": "code",
   "execution_count": 60,
   "id": "4b69bd67",
   "metadata": {},
   "outputs": [
    {
     "data": {
      "text/plain": [
       "200"
      ]
     },
     "execution_count": 60,
     "metadata": {},
     "output_type": "execute_result"
    }
   ],
   "source": [
    "#inputAln=\"/Users/dolanpt/GitHub/FlaviAnalysis_41022/SW_sequences/FinalFAs/ZIKA_FL_CDS.fasta_sized.fasta_codonAlign.aln_CprME_trim.fastaUniqued.fasta\"\n",
    "#cleanNames=Nomerator(inputAln)\n",
    "#SeqIO.write(cleanNames, inputAln+\"_CleanNames.fasta\", \"fasta\")\n",
    "\n",
    "\n",
    "inputAln=\"/Users/dolanpt/GitHub/FlaviAnalysis_41022/AllFlavi_NoZIKV.fasta_sized.fasta_codonAlign.aln_CprME_trim.fastaUniqued.fastaBIRCH_outputSeqs.fasta\"\n",
    "cleanNames=Nomerator(inputAln)\n",
    "SeqIO.write(cleanNames, inputAln+\"_CleanNames.fasta\", \"fasta\")\n",
    "\n"
   ]
  },
  {
   "cell_type": "code",
   "execution_count": 41,
   "id": "6b14847e",
   "metadata": {},
   "outputs": [
    {
     "ename": "FileNotFoundError",
     "evalue": "[Errno 2] No such file or directory: 'Protein_Distances/CprME_trimmed/DENV1_FL_CDS_2.6K.fasta_codonAlign.aln_CprME_trim.fastaBIRCH_outputSeqs.fasta'",
     "output_type": "error",
     "traceback": [
      "\u001b[0;31m---------------------------------------------------------------------------\u001b[0m",
      "\u001b[0;31mFileNotFoundError\u001b[0m                         Traceback (most recent call last)",
      "\u001b[0;32m/var/folders/kk/1fzwcqps6dd_3dt2hsjct0tr_85vzj/T/ipykernel_98907/2313359325.py\u001b[0m in \u001b[0;36m<module>\u001b[0;34m\u001b[0m\n\u001b[1;32m      1\u001b[0m \u001b[0minputAln\u001b[0m\u001b[0;34m=\u001b[0m\u001b[0;34m\"Protein_Distances/CprME_trimmed/DENV1_FL_CDS_2.6K.fasta_codonAlign.aln_CprME_trim.fastaBIRCH_outputSeqs.fasta\"\u001b[0m\u001b[0;34m\u001b[0m\u001b[0;34m\u001b[0m\u001b[0m\n\u001b[0;32m----> 2\u001b[0;31m \u001b[0mcleanNames\u001b[0m\u001b[0;34m=\u001b[0m\u001b[0mNomerator\u001b[0m\u001b[0;34m(\u001b[0m\u001b[0minputAln\u001b[0m\u001b[0;34m)\u001b[0m\u001b[0;34m\u001b[0m\u001b[0;34m\u001b[0m\u001b[0m\n\u001b[0m\u001b[1;32m      3\u001b[0m \u001b[0mSeqIO\u001b[0m\u001b[0;34m.\u001b[0m\u001b[0mwrite\u001b[0m\u001b[0;34m(\u001b[0m\u001b[0mcleanNames\u001b[0m\u001b[0;34m,\u001b[0m \u001b[0minputAln\u001b[0m\u001b[0;34m+\u001b[0m\u001b[0;34m\"_CleanNames.fasta\"\u001b[0m\u001b[0;34m,\u001b[0m \u001b[0;34m\"fasta\"\u001b[0m\u001b[0;34m)\u001b[0m\u001b[0;34m\u001b[0m\u001b[0;34m\u001b[0m\u001b[0m\n",
      "\u001b[0;32m/var/folders/kk/1fzwcqps6dd_3dt2hsjct0tr_85vzj/T/ipykernel_98907/2205370746.py\u001b[0m in \u001b[0;36mNomerator\u001b[0;34m(inputAln)\u001b[0m\n\u001b[1;32m      2\u001b[0m     \u001b[0msequences\u001b[0m\u001b[0;34m=\u001b[0m\u001b[0;34m[\u001b[0m\u001b[0;34m]\u001b[0m\u001b[0;34m\u001b[0m\u001b[0;34m\u001b[0m\u001b[0m\n\u001b[1;32m      3\u001b[0m     \u001b[0mID\u001b[0m\u001b[0;34m=\u001b[0m\u001b[0;36m0\u001b[0m\u001b[0;34m\u001b[0m\u001b[0;34m\u001b[0m\u001b[0m\n\u001b[0;32m----> 4\u001b[0;31m     \u001b[0;32mfor\u001b[0m \u001b[0mrecord\u001b[0m \u001b[0;32min\u001b[0m \u001b[0mSeqIO\u001b[0m\u001b[0;34m.\u001b[0m\u001b[0mparse\u001b[0m\u001b[0;34m(\u001b[0m\u001b[0minputAln\u001b[0m\u001b[0;34m,\u001b[0m \u001b[0;34m\"fasta\"\u001b[0m\u001b[0;34m)\u001b[0m\u001b[0;34m:\u001b[0m\u001b[0;34m\u001b[0m\u001b[0;34m\u001b[0m\u001b[0m\n\u001b[0m\u001b[1;32m      5\u001b[0m         \u001b[0mID\u001b[0m\u001b[0;34m+=\u001b[0m\u001b[0;36m1\u001b[0m\u001b[0;34m\u001b[0m\u001b[0;34m\u001b[0m\u001b[0m\n\u001b[1;32m      6\u001b[0m         \u001b[0msplits\u001b[0m\u001b[0;34m=\u001b[0m\u001b[0mrecord\u001b[0m\u001b[0;34m.\u001b[0m\u001b[0mid\u001b[0m\u001b[0;34m.\u001b[0m\u001b[0msplit\u001b[0m\u001b[0;34m(\u001b[0m\u001b[0;34m\"|\"\u001b[0m\u001b[0;34m)\u001b[0m\u001b[0;34m\u001b[0m\u001b[0;34m\u001b[0m\u001b[0m\n",
      "\u001b[0;32m~/opt/anaconda3/lib/python3.9/site-packages/Bio/SeqIO/__init__.py\u001b[0m in \u001b[0;36mparse\u001b[0;34m(handle, format, alphabet)\u001b[0m\n\u001b[1;32m    605\u001b[0m     \u001b[0miterator_generator\u001b[0m \u001b[0;34m=\u001b[0m \u001b[0m_FormatToIterator\u001b[0m\u001b[0;34m.\u001b[0m\u001b[0mget\u001b[0m\u001b[0;34m(\u001b[0m\u001b[0mformat\u001b[0m\u001b[0;34m)\u001b[0m\u001b[0;34m\u001b[0m\u001b[0;34m\u001b[0m\u001b[0m\n\u001b[1;32m    606\u001b[0m     \u001b[0;32mif\u001b[0m \u001b[0miterator_generator\u001b[0m\u001b[0;34m:\u001b[0m\u001b[0;34m\u001b[0m\u001b[0;34m\u001b[0m\u001b[0m\n\u001b[0;32m--> 607\u001b[0;31m         \u001b[0;32mreturn\u001b[0m \u001b[0miterator_generator\u001b[0m\u001b[0;34m(\u001b[0m\u001b[0mhandle\u001b[0m\u001b[0;34m)\u001b[0m\u001b[0;34m\u001b[0m\u001b[0;34m\u001b[0m\u001b[0m\n\u001b[0m\u001b[1;32m    608\u001b[0m     \u001b[0;32mif\u001b[0m \u001b[0mformat\u001b[0m \u001b[0;32min\u001b[0m \u001b[0mAlignIO\u001b[0m\u001b[0;34m.\u001b[0m\u001b[0m_FormatToIterator\u001b[0m\u001b[0;34m:\u001b[0m\u001b[0;34m\u001b[0m\u001b[0;34m\u001b[0m\u001b[0m\n\u001b[1;32m    609\u001b[0m         \u001b[0;31m# Use Bio.AlignIO to read in the alignments\u001b[0m\u001b[0;34m\u001b[0m\u001b[0;34m\u001b[0m\u001b[0m\n",
      "\u001b[0;32m~/opt/anaconda3/lib/python3.9/site-packages/Bio/SeqIO/FastaIO.py\u001b[0m in \u001b[0;36m__init__\u001b[0;34m(self, source, alphabet, title2ids)\u001b[0m\n\u001b[1;32m    181\u001b[0m             \u001b[0;32mraise\u001b[0m \u001b[0mValueError\u001b[0m\u001b[0;34m(\u001b[0m\u001b[0;34m\"The alphabet argument is no longer supported\"\u001b[0m\u001b[0;34m)\u001b[0m\u001b[0;34m\u001b[0m\u001b[0;34m\u001b[0m\u001b[0m\n\u001b[1;32m    182\u001b[0m         \u001b[0mself\u001b[0m\u001b[0;34m.\u001b[0m\u001b[0mtitle2ids\u001b[0m \u001b[0;34m=\u001b[0m \u001b[0mtitle2ids\u001b[0m\u001b[0;34m\u001b[0m\u001b[0;34m\u001b[0m\u001b[0m\n\u001b[0;32m--> 183\u001b[0;31m         \u001b[0msuper\u001b[0m\u001b[0;34m(\u001b[0m\u001b[0;34m)\u001b[0m\u001b[0;34m.\u001b[0m\u001b[0m__init__\u001b[0m\u001b[0;34m(\u001b[0m\u001b[0msource\u001b[0m\u001b[0;34m,\u001b[0m \u001b[0mmode\u001b[0m\u001b[0;34m=\u001b[0m\u001b[0;34m\"t\"\u001b[0m\u001b[0;34m,\u001b[0m \u001b[0mfmt\u001b[0m\u001b[0;34m=\u001b[0m\u001b[0;34m\"Fasta\"\u001b[0m\u001b[0;34m)\u001b[0m\u001b[0;34m\u001b[0m\u001b[0;34m\u001b[0m\u001b[0m\n\u001b[0m\u001b[1;32m    184\u001b[0m \u001b[0;34m\u001b[0m\u001b[0m\n\u001b[1;32m    185\u001b[0m     \u001b[0;32mdef\u001b[0m \u001b[0mparse\u001b[0m\u001b[0;34m(\u001b[0m\u001b[0mself\u001b[0m\u001b[0;34m,\u001b[0m \u001b[0mhandle\u001b[0m\u001b[0;34m)\u001b[0m\u001b[0;34m:\u001b[0m\u001b[0;34m\u001b[0m\u001b[0;34m\u001b[0m\u001b[0m\n",
      "\u001b[0;32m~/opt/anaconda3/lib/python3.9/site-packages/Bio/SeqIO/Interfaces.py\u001b[0m in \u001b[0;36m__init__\u001b[0;34m(self, source, alphabet, mode, fmt)\u001b[0m\n\u001b[1;32m     45\u001b[0m             \u001b[0;32mraise\u001b[0m \u001b[0mValueError\u001b[0m\u001b[0;34m(\u001b[0m\u001b[0;34m\"The alphabet argument is no longer supported\"\u001b[0m\u001b[0;34m)\u001b[0m\u001b[0;34m\u001b[0m\u001b[0;34m\u001b[0m\u001b[0m\n\u001b[1;32m     46\u001b[0m         \u001b[0;32mtry\u001b[0m\u001b[0;34m:\u001b[0m\u001b[0;34m\u001b[0m\u001b[0;34m\u001b[0m\u001b[0m\n\u001b[0;32m---> 47\u001b[0;31m             \u001b[0mself\u001b[0m\u001b[0;34m.\u001b[0m\u001b[0mstream\u001b[0m \u001b[0;34m=\u001b[0m \u001b[0mopen\u001b[0m\u001b[0;34m(\u001b[0m\u001b[0msource\u001b[0m\u001b[0;34m,\u001b[0m \u001b[0;34m\"r\"\u001b[0m \u001b[0;34m+\u001b[0m \u001b[0mmode\u001b[0m\u001b[0;34m)\u001b[0m\u001b[0;34m\u001b[0m\u001b[0;34m\u001b[0m\u001b[0m\n\u001b[0m\u001b[1;32m     48\u001b[0m             \u001b[0mself\u001b[0m\u001b[0;34m.\u001b[0m\u001b[0mshould_close_stream\u001b[0m \u001b[0;34m=\u001b[0m \u001b[0;32mTrue\u001b[0m\u001b[0;34m\u001b[0m\u001b[0;34m\u001b[0m\u001b[0m\n\u001b[1;32m     49\u001b[0m         \u001b[0;32mexcept\u001b[0m \u001b[0mTypeError\u001b[0m\u001b[0;34m:\u001b[0m  \u001b[0;31m# not a path, assume we received a stream\u001b[0m\u001b[0;34m\u001b[0m\u001b[0;34m\u001b[0m\u001b[0m\n",
      "\u001b[0;31mFileNotFoundError\u001b[0m: [Errno 2] No such file or directory: 'Protein_Distances/CprME_trimmed/DENV1_FL_CDS_2.6K.fasta_codonAlign.aln_CprME_trim.fastaBIRCH_outputSeqs.fasta'"
     ]
    }
   ],
   "source": [
    "inputAln=\"Protein_Distances/CprME_trimmed/DENV1_FL_CDS_2.6K.fasta_codonAlign.aln_CprME_trim.fastaBIRCH_outputSeqs.fasta\"\n",
    "cleanNames=Nomerator(inputAln)\n",
    "SeqIO.write(cleanNames, inputAln+\"_CleanNames.fasta\", \"fasta\")"
   ]
  },
  {
   "cell_type": "code",
   "execution_count": 73,
   "id": "c71a9c58",
   "metadata": {},
   "outputs": [
    {
     "data": {
      "text/plain": [
       "75"
      ]
     },
     "execution_count": 73,
     "metadata": {},
     "output_type": "execute_result"
    }
   ],
   "source": [
    "inputAln=\"Protein_Distances/CprME_trimmed/DENV2_FL_CDS_1.8K.fasta_codonAlign.aln_CprME_trim.fastaBIRCH_outputSeqs.fasta\"\n",
    "cleanNames=Nomerator(inputAln)\n",
    "SeqIO.write(cleanNames, inputAln+\"_CleanNames.fasta\", \"fasta\")"
   ]
  },
  {
   "cell_type": "code",
   "execution_count": 74,
   "id": "a8a8bc71",
   "metadata": {},
   "outputs": [
    {
     "data": {
      "text/plain": [
       "75"
      ]
     },
     "execution_count": 74,
     "metadata": {},
     "output_type": "execute_result"
    }
   ],
   "source": [
    "inputAln=\"Protein_Distances/CprME_trimmed/ZIKV_FL_CDS_900.fasta_codonAlign.aln_CprME_trim.fastaBIRCH_outputSeqs.fasta\"\n",
    "cleanNames=Nomerator(inputAln)\n",
    "SeqIO.write(cleanNames, inputAln+\"_CleanNames.fasta\", \"fasta\")"
   ]
  },
  {
   "cell_type": "code",
   "execution_count": 81,
   "id": "ea99b377",
   "metadata": {},
   "outputs": [
    {
     "data": {
      "text/plain": [
       "206"
      ]
     },
     "execution_count": 81,
     "metadata": {},
     "output_type": "execute_result"
    }
   ],
   "source": [
    "inputAln=\"Protein_Distances/CprME_trimmed/Cleaned_Seqs/AllSequences.fasta_codonAlign.alnUniqued.fasta\"\n",
    "SeqRecords=Gapperator(inputAln)\n",
    "SeqIO.write(SeqRecords,inputAln+\"ungapped.fasta\",\"fasta\")"
   ]
  },
  {
   "cell_type": "code",
   "execution_count": null,
   "id": "8217f854",
   "metadata": {},
   "outputs": [],
   "source": []
  }
 ],
 "metadata": {
  "kernelspec": {
   "display_name": "Python 3 (ipykernel)",
   "language": "python",
   "name": "python3"
  },
  "language_info": {
   "codemirror_mode": {
    "name": "ipython",
    "version": 3
   },
   "file_extension": ".py",
   "mimetype": "text/x-python",
   "name": "python",
   "nbconvert_exporter": "python",
   "pygments_lexer": "ipython3",
   "version": "3.9.7"
  }
 },
 "nbformat": 4,
 "nbformat_minor": 5
}
