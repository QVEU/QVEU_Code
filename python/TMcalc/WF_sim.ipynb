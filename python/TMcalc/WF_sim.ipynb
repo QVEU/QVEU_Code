{
 "cells": [
  {
   "cell_type": "code",
   "execution_count": 1,
   "id": "54979401-0808-46af-b0aa-e9c0482c6840",
   "metadata": {},
   "outputs": [],
   "source": [
    "import random"
   ]
  },
  {
   "cell_type": "code",
   "execution_count": 198,
   "id": "0e2a3b48-7ed3-4690-bfe8-ff8dcd710d28",
   "metadata": {},
   "outputs": [],
   "source": [
    "#WrightFisherSimulation\n",
    "\n",
    "popSize=100\n",
    "nGen=100\n",
    "genomeLength=100\n",
    "muRates={ 'A': {'C': 0.1,'G': 0.1,'T': 0.1},\n",
    "         'C':{'A': 0.1,'G': 0.1,'T': 0.1} ,\n",
    "         'G':{'A': 0.1,'C': 0.1,'T': 0.1},\n",
    "         'T':{'A': 0.1,'C': 0.1,'G': 0.1}}\n",
    "\n",
    "def mutate(popDict,muRates):\n",
    "    muPopDict=popDict\n",
    "    for j in list(popDict.keys()):\n",
    "        template=popDict[j]\n",
    "        position=random.choice(range(genomeLength))\n",
    "        mutation=random.choice(list(muRates[template[position]].keys()))\n",
    "        if random.random()<muRates[template[position]][mutation]:\n",
    "            product=template[0:position]+mutation+template[(position+1):genomeLength]\n",
    "        muPopDict[j]=product\n",
    "    return(muPopDict)\n",
    "def select(popDict):\n",
    "    newPopDict=dict(zip(range(popSize),[popDict[random.choice(list(popDict.keys()))] for i in range(popSize)]))\n",
    "#    print(newPopDict)\n",
    "    return(newPopDict)"
   ]
  },
  {
   "cell_type": "code",
   "execution_count": 199,
   "id": "ef2d794d-21c6-4138-9f3b-9f926061de3c",
   "metadata": {},
   "outputs": [
    {
     "name": "stdout",
     "output_type": "stream",
     "text": [
      "0\n"
     ]
    },
    {
     "ename": "UnboundLocalError",
     "evalue": "local variable 'product' referenced before assignment",
     "output_type": "error",
     "traceback": [
      "\u001b[0;31m---------------------------------------------------------------------------\u001b[0m",
      "\u001b[0;31mUnboundLocalError\u001b[0m                         Traceback (most recent call last)",
      "\u001b[0;32m/var/folders/kk/1fzwcqps6dd_3dt2hsjct0tr_85vzj/T/ipykernel_33268/3261398105.py\u001b[0m in \u001b[0;36m<module>\u001b[0;34m\u001b[0m\n\u001b[1;32m      6\u001b[0m     \u001b[0mpopDict\u001b[0m\u001b[0;34m=\u001b[0m\u001b[0mselect\u001b[0m\u001b[0;34m(\u001b[0m\u001b[0mpopDict\u001b[0m\u001b[0;34m)\u001b[0m\u001b[0;34m\u001b[0m\u001b[0;34m\u001b[0m\u001b[0m\n\u001b[1;32m      7\u001b[0m     \u001b[0;31m#print(popDict)\u001b[0m\u001b[0;34m\u001b[0m\u001b[0;34m\u001b[0m\u001b[0;34m\u001b[0m\u001b[0m\n\u001b[0;32m----> 8\u001b[0;31m     \u001b[0mpopDict\u001b[0m\u001b[0;34m=\u001b[0m\u001b[0mmutate\u001b[0m\u001b[0;34m(\u001b[0m\u001b[0mpopDict\u001b[0m\u001b[0;34m,\u001b[0m\u001b[0mmuRates\u001b[0m\u001b[0;34m)\u001b[0m\u001b[0;34m\u001b[0m\u001b[0;34m\u001b[0m\u001b[0m\n\u001b[0m\u001b[1;32m      9\u001b[0m \u001b[0;34m\u001b[0m\u001b[0m\n",
      "\u001b[0;32m/var/folders/kk/1fzwcqps6dd_3dt2hsjct0tr_85vzj/T/ipykernel_33268/2868119238.py\u001b[0m in \u001b[0;36mmutate\u001b[0;34m(popDict, muRates)\u001b[0m\n\u001b[1;32m     17\u001b[0m         \u001b[0;32mif\u001b[0m \u001b[0mrandom\u001b[0m\u001b[0;34m.\u001b[0m\u001b[0mrandom\u001b[0m\u001b[0;34m(\u001b[0m\u001b[0;34m)\u001b[0m\u001b[0;34m<\u001b[0m\u001b[0mmuRates\u001b[0m\u001b[0;34m[\u001b[0m\u001b[0mtemplate\u001b[0m\u001b[0;34m[\u001b[0m\u001b[0mposition\u001b[0m\u001b[0;34m]\u001b[0m\u001b[0;34m]\u001b[0m\u001b[0;34m[\u001b[0m\u001b[0mmutation\u001b[0m\u001b[0;34m]\u001b[0m\u001b[0;34m:\u001b[0m\u001b[0;34m\u001b[0m\u001b[0;34m\u001b[0m\u001b[0m\n\u001b[1;32m     18\u001b[0m             \u001b[0mproduct\u001b[0m\u001b[0;34m=\u001b[0m\u001b[0mtemplate\u001b[0m\u001b[0;34m[\u001b[0m\u001b[0;36m0\u001b[0m\u001b[0;34m:\u001b[0m\u001b[0mposition\u001b[0m\u001b[0;34m]\u001b[0m\u001b[0;34m+\u001b[0m\u001b[0mmutation\u001b[0m\u001b[0;34m+\u001b[0m\u001b[0mtemplate\u001b[0m\u001b[0;34m[\u001b[0m\u001b[0;34m(\u001b[0m\u001b[0mposition\u001b[0m\u001b[0;34m+\u001b[0m\u001b[0;36m1\u001b[0m\u001b[0;34m)\u001b[0m\u001b[0;34m:\u001b[0m\u001b[0mgenomeLength\u001b[0m\u001b[0;34m]\u001b[0m\u001b[0;34m\u001b[0m\u001b[0;34m\u001b[0m\u001b[0m\n\u001b[0;32m---> 19\u001b[0;31m         \u001b[0mmuPopDict\u001b[0m\u001b[0;34m[\u001b[0m\u001b[0mj\u001b[0m\u001b[0;34m]\u001b[0m\u001b[0;34m=\u001b[0m\u001b[0mproduct\u001b[0m\u001b[0;34m\u001b[0m\u001b[0;34m\u001b[0m\u001b[0m\n\u001b[0m\u001b[1;32m     20\u001b[0m     \u001b[0;32mreturn\u001b[0m\u001b[0;34m(\u001b[0m\u001b[0mmuPopDict\u001b[0m\u001b[0;34m)\u001b[0m\u001b[0;34m\u001b[0m\u001b[0;34m\u001b[0m\u001b[0m\n\u001b[1;32m     21\u001b[0m \u001b[0;32mdef\u001b[0m \u001b[0mselect\u001b[0m\u001b[0;34m(\u001b[0m\u001b[0mpopDict\u001b[0m\u001b[0;34m)\u001b[0m\u001b[0;34m:\u001b[0m\u001b[0;34m\u001b[0m\u001b[0;34m\u001b[0m\u001b[0m\n",
      "\u001b[0;31mUnboundLocalError\u001b[0m: local variable 'product' referenced before assignment"
     ]
    }
   ],
   "source": [
    "#make Pop dict:\n",
    "popDict=dict(zip(range(popSize),[\"\".join([\"A\"]*genomeLength)]*popSize))\n",
    "\n",
    "for gen in range(nGen):\n",
    "    print (gen)\n",
    "    popDict=select(popDict)\n",
    "    #print(popDict)\n",
    "    popDict=mutate(popDict,muRates)\n",
    "    "
   ]
  },
  {
   "cell_type": "code",
   "execution_count": 200,
   "id": "09f8f15e-0525-4d28-9d20-f06566863388",
   "metadata": {},
   "outputs": [],
   "source": [
    "from Bio import SeqIO"
   ]
  },
  {
   "cell_type": "code",
   "execution_count": 201,
   "id": "5318ecba-d885-4aa5-a3d4-06fc2a7c43a2",
   "metadata": {},
   "outputs": [],
   "source": [
    "from matplotlib import pyplot as plt\n",
    "import numpy as np"
   ]
  },
  {
   "cell_type": "code",
   "execution_count": 202,
   "id": "7ff3e50d-057c-4bfc-8680-a7577d0ea0d8",
   "metadata": {},
   "outputs": [
    {
     "data": {
      "text/plain": [
       "(array(['AAAAAAAAAAAAAAAAAAAAAAAAAAAAAAAAAAAAAAAAAAAAAAAAAAAAAAAAAAAAAAAAAAAAAAAAAAAAAAAAAAAAAAAAAAAAAAAAAAAA'],\n",
       "       dtype='<U100'),\n",
       " array([100]))"
      ]
     },
     "execution_count": 202,
     "metadata": {},
     "output_type": "execute_result"
    }
   ],
   "source": [
    "np.unique(list(popDict.values()),return_counts=True)"
   ]
  },
  {
   "cell_type": "code",
   "execution_count": null,
   "id": "0d9186b7-759b-4f26-9674-850a3c10335a",
   "metadata": {},
   "outputs": [],
   "source": []
  }
 ],
 "metadata": {
  "kernelspec": {
   "display_name": "Python 3 (ipykernel)",
   "language": "python",
   "name": "python3"
  },
  "language_info": {
   "codemirror_mode": {
    "name": "ipython",
    "version": 3
   },
   "file_extension": ".py",
   "mimetype": "text/x-python",
   "name": "python",
   "nbconvert_exporter": "python",
   "pygments_lexer": "ipython3",
   "version": "3.8.2"
  }
 },
 "nbformat": 4,
 "nbformat_minor": 5
}
