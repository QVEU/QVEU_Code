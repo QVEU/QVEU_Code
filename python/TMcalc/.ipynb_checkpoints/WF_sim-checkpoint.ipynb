{
 "cells": [
  {
   "cell_type": "code",
   "execution_count": 1,
   "id": "54979401-0808-46af-b0aa-e9c0482c6840",
   "metadata": {},
   "outputs": [],
   "source": [
    "import random"
   ]
  },
  {
   "cell_type": "code",
   "execution_count": 46,
   "id": "0e2a3b48-7ed3-4690-bfe8-ff8dcd710d28",
   "metadata": {},
   "outputs": [],
   "source": [
    "#WrightFisherSimulation\n",
    "\n",
    "popSize=100\n",
    "nGen=100\n",
    "genomeLength=1000\n",
    "muRates={ 'A': {'C': 1.,'G': 1.,'T': 1.},\n",
    "         'C':{'A': 1.,'G': 1.,'T': 1.} ,\n",
    "         'G':{'A': 1.,'C': 1.,'T': 1.},\n",
    "         'T':{'A': 1.,'C': 1.,'G': 1.}}\n",
    "\n",
    "def mutate(popDict,muRates):\n",
    "    \n",
    "    "
   ]
  },
  {
   "cell_type": "code",
   "execution_count": 42,
   "id": "ef2d794d-21c6-4138-9f3b-9f926061de3c",
   "metadata": {},
   "outputs": [
    {
     "name": "stdout",
     "output_type": "stream",
     "text": [
      "0\n"
     ]
    },
    {
     "ename": "NameError",
     "evalue": "name 'mutate' is not defined",
     "output_type": "error",
     "traceback": [
      "\u001b[0;31m---------------------------------------------------------------------------\u001b[0m",
      "\u001b[0;31mNameError\u001b[0m                                 Traceback (most recent call last)",
      "\u001b[0;32m/var/folders/kk/1fzwcqps6dd_3dt2hsjct0tr_85vzj/T/ipykernel_33268/3690661041.py\u001b[0m in \u001b[0;36m<module>\u001b[0;34m\u001b[0m\n\u001b[1;32m      3\u001b[0m \u001b[0;32mfor\u001b[0m \u001b[0mgen\u001b[0m \u001b[0;32min\u001b[0m \u001b[0mrange\u001b[0m\u001b[0;34m(\u001b[0m\u001b[0mnGen\u001b[0m\u001b[0;34m)\u001b[0m\u001b[0;34m:\u001b[0m\u001b[0;34m\u001b[0m\u001b[0;34m\u001b[0m\u001b[0m\n\u001b[1;32m      4\u001b[0m     \u001b[0mprint\u001b[0m \u001b[0;34m(\u001b[0m\u001b[0mgen\u001b[0m\u001b[0;34m)\u001b[0m\u001b[0;34m\u001b[0m\u001b[0;34m\u001b[0m\u001b[0m\n\u001b[0;32m----> 5\u001b[0;31m     \u001b[0mpopDict\u001b[0m\u001b[0;34m=\u001b[0m\u001b[0mmutate\u001b[0m\u001b[0;34m(\u001b[0m\u001b[0;34m)\u001b[0m\u001b[0;34m\u001b[0m\u001b[0;34m\u001b[0m\u001b[0m\n\u001b[0m\u001b[1;32m      6\u001b[0m     \u001b[0mpopDict\u001b[0m\u001b[0;34m=\u001b[0m\u001b[0mselect\u001b[0m\u001b[0;34m(\u001b[0m\u001b[0;34m)\u001b[0m\u001b[0;34m\u001b[0m\u001b[0;34m\u001b[0m\u001b[0m\n",
      "\u001b[0;31mNameError\u001b[0m: name 'mutate' is not defined"
     ]
    }
   ],
   "source": [
    "#make Pop dict:\n",
    "popDict=dict(zip(range(popSize),[\"\".join([\"A\"]*genomeLength)]*popSize))\n",
    "for gen in range(nGen):\n",
    "    print (gen)\n",
    "    popDict=select(popDict)\n",
    "    popDict=mutate(popDict)\n"
   ]
  },
  {
   "cell_type": "code",
   "execution_count": null,
   "id": "09f8f15e-0525-4d28-9d20-f06566863388",
   "metadata": {},
   "outputs": [],
   "source": []
  }
 ],
 "metadata": {
  "kernelspec": {
   "display_name": "Python 3 (ipykernel)",
   "language": "python",
   "name": "python3"
  },
  "language_info": {
   "codemirror_mode": {
    "name": "ipython",
    "version": 3
   },
   "file_extension": ".py",
   "mimetype": "text/x-python",
   "name": "python",
   "nbconvert_exporter": "python",
   "pygments_lexer": "ipython3",
   "version": "3.8.2"
  }
 },
 "nbformat": 4,
 "nbformat_minor": 5
}
