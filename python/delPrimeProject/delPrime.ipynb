{
 "cells": [
  {
   "cell_type": "code",
   "execution_count": null,
   "id": "8728b446-c0e6-4dda-bbfd-58615f9f4af5",
   "metadata": {},
   "outputs": [],
   "source": [
    "from Bio.SeqUtils import MeltingTemp\n",
    "from Bio.Seq import Seq"
   ]
  },
  {
   "cell_type": "code",
   "execution_count": null,
   "id": "2f5c9103-d693-4669-affa-845225c68307",
   "metadata": {},
   "outputs": [],
   "source": [
    "def Tm(primerSeq):\n",
    "    TM=MeltingTemp.Tm_NN(primerSeq,Mg=2.0,nn_table=MeltingTemp.DNA_NN4)\n",
    "    return(TM)"
   ]
  },
  {
   "cell_type": "code",
   "execution_count": null,
   "id": "072591e4-4cdc-47fd-bfa3-085949f1b0eb",
   "metadata": {},
   "outputs": [],
   "source": [
    "def seqWalk(inputSeq,delLength,start=0,end=0):\n",
    "    if end==0:\n",
    "        end=len(inputSeq)-1\n",
    "    positions=range(int(len(inputSeq)/delLength))\n",
    "    positionsIter=[i*delLength for i in positions if (i >= start/3 and i <= end/3)]\n",
    "    return(positionsIter)\n",
    "\n",
    "def windowSizing(position,delLength,inputSeq,tmDes,windowSize=8):\n",
    "    #reversePrimer (left)\n",
    "    inputSeq= inputSeq.upper()\n",
    "    TM=0.0\n",
    "    while TM<tmDes:\n",
    "        primerR_for=inputSeq[(position-windowSize-2):position-2]\n",
    "        TM=Tm(primerR_for)\n",
    "        windowSize+=1\n",
    "        forSeq = Seq(primerR_for)\n",
    "        primerR = str(forSeq.reverse_complement())\n",
    "        \n",
    "    TM_r=TM #final Tm of reverse annealing region.\n",
    "    \n",
    "    #forwardPrimer (right)\n",
    "    TM=0.0\n",
    "    while TM<=tmDes:\n",
    "        primerF=inputSeq[(position+delLength-2):(windowSize+position-2)]\n",
    "        TM=Tm(primerF)\n",
    "        windowSize+=1\n",
    "    \n",
    "    TM_f=TM #final Tm of forward annealing region.\n",
    "    \n",
    "    #overlap\n",
    "    TM=0.0\n",
    "    overlap=5\n",
    "    while TM<tmDes+3:\n",
    "        Fflank=primerR_for[(len(primerR_for)-overlap):len(primerR_for)]\n",
    "        delPrimerF=(Fflank.lower()+primerF)\n",
    "        \n",
    "        Rflank=primerF[0:overlap]\n",
    "        delPrimerR_for=primerR_for+Rflank.lower()\n",
    "        \n",
    "        forSeq = Seq(delPrimerR_for)\n",
    "        delPrimerR = str(forSeq.reverse_complement())\n",
    "        overlap+=1\n",
    "        \n",
    "        TM=Tm(delPrimerF[0:2*(overlap)])\n",
    "        \n",
    "    TM_OL=TM #final Tm of overlap.\n",
    "    \n",
    "    print(\"Deletion at pos: \"+str(position)+\" to \"+str(position+delLength-1))\n",
    "    print(\"Forward Primer: \"+delPrimerF+\"\\tLength: \"+str(len(primerF))+\"\\tTm: \"+str(TM_f))\n",
    "    print(\"Reverse Primer: \"+delPrimerR+\"\\tLength: \"+str(len(primerR))+\"\\tTm: \"+str(TM_r))\n",
    "    print(\"TM_OL: \"+str(TM_OL))\n",
    "    \n",
    "    outputString=\"del_\"+str(position)+\"-\"+str(position+delLength-1)+\"_F,\"+delPrimerF+\",\"+str(round(TM_f,2))+\"\\n\"+\"del_\"+str(position)+\"-\"+str(position+delLength-1)+\"_R, \"+delPrimerR+\",\"+str(round(TM_r,2))+\"\\n\"#string for text file (e.g. benchling input)\n",
    "    return(outputString)\n",
    "\n"
   ]
  },
  {
   "cell_type": "code",
   "execution_count": null,
   "id": "61541eb8-2565-48f7-839a-b10ef9cf5a8c",
   "metadata": {},
   "outputs": [],
   "source": [
    "inputSequence=\"ttaaaacagcctgtgggttgcacccacccacagggcccactgggcgctagcactctggtactgaggtacctttgtgcgcctgtttttactccccttcccccgaagtaacttagaagctgtaaatcaacgatcaatagcaggtgtggcacaccagtcataccttgatcaagcacttctgtttccccggactgagtatcaataggctgctcgcgcggctgaaggagaaaacgttcgttacccgaccaactacttcgagaagcttagtaccaccatgaacgaggcagggtgtttcgctcagcacaaccccagtgtagatcaggctgatgagtcactgcaacccccatgggcgaccatggcagtggctgcgttggcggcctgcccatggagaaatccatgggacgctctaattctgacatggtgtgaagagcctattgagctagctggtagtcctccggcccctgaatgcggctaatcctaactgcggagcacatgctcacaaaccagtgggtggtgtgtcgtaacgggcaactctgcagcggaaccgactactttgggtgtccgtgtttccttttattcctatattggctgcttatggtgacaatcaaagagttgttaccatatagctattggattggccatccggtgtgcaacagggcaattgtttacctatttattggttttgtaccattatcactgaagtctgtgatcactctcaaattcattttgaccctcaacacaatcaaacatgggctcacaagtgtccacacaacgctccggttcacacgaaaactctaactcagctaccgagggttccactataaactatactaccattaattactataaagattcctatgccgccacagcaggtaagcagagccttaagcaggacccagacaagtttgcaaatcctgtcaaagacatcttcactgaaatggcagcgccattaaaatctccatctgctgaggcatgtggttacagcgatcgggtggcacaattaactattggcaattctaccatcactacgcaagaagcagcaaacatcatagttggctatggtgagtggccttcctactgttcggactctgatgctactgcagtggacaaaccaacgcgcccagatgtttcggtgaataggttttacacattggacacaaaattgtgggagaaatcatccaaggggtggtactggaaattcccggatgtgttaactgaaaccggggtctttggtcaaaatgcacagttccactacctctatcggtcagggttctgcattcacgtgcagtgcaatgctagtaagttccaccaaggagcactcctagtcgctgtcctcccagagtatgtcattgggacagtggcaggtggcacagggacggaggatagccaccccccttataagcagactcaacccggtgctgatggcttcgaattgcaacacccgtacgtgcttgatgctggcattccaatatcacaattaacagtgtgcccacatcagtggattaatttgaggaccaacaattgtgccacaataatagtgccgtacataaacgcactaccctttgattctgccttgaaccattgtaactttggtctgctggttgtgcctattagcccgttagattatgaccaaggtgcgacgccagtgatccccattactatcactttggccccaatgtgttctgaatttgcaggccttagacaagcagttacgcaagggtttcctactgagctgaaacctggcacaaaccaatttttaaccactgacgatggcgtctcagcacccattctgccaaactttcaccccaccccgtgtatccatatacccggtgaagttagaaacttgctagagctatgccaggtggagaccattttagaggtcaacaatgtacctacgaatgccactagcttaatggagagactgcgcttcccggtctcagctcaagccgggaaaggtgagctatgtgcagtgttcagagctgaccctggacgaagtgggccatggcagtccaccttgttgggccagttgtgcgggtactacacccaatggtcaggatcactggaagtcaccttcatgttcaccgggtcctttatggctaccggcaagatgctcatagcatacacaccaccaggaggccccttacccaaggaccgggcgaccgccatgttgggcacgcacgtcatctgggactttgggctgcaatcgtctgtcacccttgtaataccatggatcagcaacactcattacagagcgcacgctcgagatggtgtgttcgactactacactacaggtttggttagcatatggtaccagacgaattatgtggttccaattggggcacccaatacagcctatataatagcattggcggcagcccagaagaacttcaccatgaagttgtgtaaggatgctagtgatatcctacagacaggcactatccagggagatagggtggcagatgtgattgagagttctataggggacagtgtgagcagagccctcacccgagctctaccggcacctaccggccaagacacacaggtaagcagccaccgattagatactggtaaagttccagcactccaagccgctgaaattggagcatcatcaaatgctagtgatgagagtatgattgagacacggtgtgttcttaattcacatagtacagctgagaccactcttgatagcttcttcagcagagcaggattagttggagagatagacctccctcttgaaggcacaaccaacccgaatgggtacgcaaactgggacatagacataacaggttacgcgcaaatgcgtagaaaggtggagctgttcacctacatgcgttttgacgcagagttcacctttgttgcatgcacccctaccgggcaagttgtcccgcaattgctccaatacatgtttgtaccacccggagcccccaagccagactccagagaatctctcgcatggcaaactgccactaatccctcagtttttgtgaagctgtcagaccccccagcacaggtttctgttccattcatgtcacctgcgagcgcctatcaatggttttatgacgggtatcccacattcggtgaacacaaacaggagaaagaccttgaatacggggcatgcccaaacaacatgatgggtacgttctcagtgcggactgtaggcacctcgaagtccaagtacccattggtgatcaggatttacatgaggatgaagcacgtcagggcgtggatacctcgcccaatgcgtaaccagaactatctattcaaagccaacccaaattatgctggtaattttattaaaccaactggtgccagtcgcacagcaatcaccaccctcgggaaatttggacagcagtccggagctatctacgtgggcaactttagagtggttacagacgcagtgtcaagagaagttgaagcactgaaaagtcacttgatcggctcagagggtgccgtggagaagattctaaagaacttagttaaactcatctctgcgctcgtcatcgtcatcaggagtgattatgacatggtcacattgacggcaacacttgccctgatcgggtgccacgggagcccttgggcctgggttaagtcgaagacagcatcaatcttgggcataccgatggctcagaagcagagtgcctcttggttaaagaagttcaacgatgcggcgagtgccgcgaaggggcttgagtggatctccaacaaaatcagtaaatttatcgattggctcaaggagaaaatcataccggctgctaaagagaaagtcgagtttctaaacaatctaaagcaactccccttattggagaaccaaatttctaatctcgaacagtcagcagcttcgcaggaggaccttgaggcgatgtttggcaacgtgtcttatctggcccacttctgccgcaaattccaacccctctatgccacggaagcaaagagggtgtacgccctagaaaagagaatgaataattacatgcagttcaagagcaaacaccgtattgaacctgtatgcctaatcatcagaggctcgcctggtactgggaagtccttggcaacagggattattgctagagccatagcagacaagtaccactccagtgtgtattccttacctccagacccagaccactttgacggatacaaacaacagatcgtcactgttatggacgacctatgccaaaacccagacgggaaagacatgtcactattttgtcagatggtctccacagtggattttataccgcctatggcatctctggaggagaagggagtctcattcacctccaagtttgtgattgcctccactaacgccagtaacatcatagtgccaacagtctcggattcagatgccattcgtcgccggttctttatggactgcgatattgaggtgaccgattcctataagacagagctgggcagacttgatgcagggagagcagccaggctgtgctctgagaacaacactgcaaactttaaacggtgcagtccattagtctgtgggaaagcaatccagcttagggataggaagtccaaggtgagatacagtgtggacacggtagtgagtgaacttatcagggagtataacaacagatcagttattgggaacaccattgaagctcttttccaaggaccccctaaatttagaccaataaggattagcttagaggagaagcccgcacctgatgctattagtgacttattagctagtgttgatagtgaagaggttcgccaatactgtagagatcagggatggattgtacctgattctcccaccaacgttgagcgccacttgaatagagctgtcttgattatgcagtctgtagccaccgtggtagcagttgtgtcccttgtttacgtcatctacaagttgttcgccggttttcaaggagcatattccggcgcccccaagcaaacactcaagaaaccagtgctgcgcacggcaactgtgcaggggccgagcttggacttcgccctatctctacttaggaggaacattaggcaggtccaaaccgaccagggccactttacaatgttaggagtgcgagaccgcttggctgtgctccccagacactcccaaccaggaaagaccatctgggttgaacacaaattagtgaagatcgtagatgctgtggagttagtagacgaacaaggggttaacttagagctcacactggtaacgcttgatactaacgaaaaatttagagacatcacaagattcataccagaaacaattagtcctgctagtgatgccactttagttataaatactgaacatatgcccagtatgtttgtgccagttggagatgtggtccagtatgggtttttgaaccttagtggtaagcccactcacaggactatgatgtacaatttcccaacaaaagcaggacagtgtggtggtgttgtgactgccgtgggtaaagtgattgggatccacattggtggcaacggtaggcaaggtttctgcgctgccctgaagaggggatacttttgcagtgaacaaggtgagatccaatggatgaagcccaacaaagaaactggcaggttgaacatcaacggacctactcgcactaagcttgaaccaagtgtctttcacgatgtgttcgaaggcactaaagagccagcagtgctgactagtaaagacccaaggctggaagttgactttgaacaggctcttttttcaaaatacgtggggaacacgcttcatgaacccgacgagtttgtcaaggaggcggccttacattatgccaaccaactcaagcagttagatatcaagaccaccaagatgagcatggaggatgcatgttacggcacagagaacctggaagctatagatcttcacacaagtgcaggatatccatacagtgcactaggcatcaagaaaaaggacattttggatccaacaactcgcgatgtcagcaagatgaaattctacatggacaagtatgggttggatctaccgtactctacttatgttaaagatgaacttagggccatcgacaagatcaagaaagggaagtctcgtctcatagaagcgagcagtctaaatgactcagtgtacttgagaatgacatttgggcacctttatgaagctttccacgccaacccaggtacaatcactggttcagctgttgggtgtaacccagatgtgttctggagcaagttaccaattctacttccaggatcgcttttcgcgtttgactactcggggtatgacgctagtctcagcccagtgtggttcagggcgctggagatagtcctgcgggaaattggatactccgaagacgcagtgtctctcatagaagggatcaatcacacccatcatgtgtaccgcaataaaacttattgtgttcttgggggaatgccctcaggttgctcaggcacctccattttcaactcgatgatcaacaatatcattattagaacactcctgattaaaacattcaaagggatagatctagatgaactgaacatggtggcctacggggatgatgtgttggctagttaccccttcccaattgactgtctggagttggcaagaacaggcaaggagtatggtctaactatgacccctgccgacaagtcaccctgctttaatgaggttacatgggagaatgccactttcttgaagagaggattcttgcctgatcatcaattcccgtttctcatccaccctacgatgccaatgagggagattcacgaatccattcgttggaccaaagatgcacgaagtactcaagatcacgtgcgctccctctgcttattagcatggcacaacgggaaagaggagtatgaaaaatttgtgagtgcaatcagatcagttccaattggaaaagcattggctataccaaattatgagaatctgagaagaaattggctcgaattgttttaaatttacagtttgtaactgaaccccaccagtaatctggtcgcgttaatgactggtgggggtaaatttgttataaccagaatagcaaaaaaaaaaaaaaaaaaaaaaaaaaaaaaaaaaaaaaaaaaaaaaaa\""
   ]
  },
  {
   "cell_type": "code",
   "execution_count": null,
   "id": "a41946e7-bb1f-4a81-864b-9ea7d9b9ccb7",
   "metadata": {},
   "outputs": [],
   "source": [
    "delLength=3\n",
    "tmDes=52\n",
    "windowSize=14\n",
    "posArray=seqWalk(inputSequence,delLength,start=748,end=6879)\n",
    "#print(posArray)\n",
    "\n",
    "OF=\"EV-71_delPrimer_output.txt\"\n",
    "with open(OF,\"w\") as outfile:\n",
    "    outfile.write(\"name,sequence,Tm\\n\")#header\n",
    "    for i in posArray:\n",
    "        outputString=windowSizing(i, delLength, inputSequence, tmDes, windowSize)\n",
    "        outfile.write(outputString)\n",
    "        "
   ]
  },
  {
   "cell_type": "code",
   "execution_count": null,
   "id": "b4cc5be0-b582-450b-8e4d-33c80fc6ee9f",
   "metadata": {},
   "outputs": [],
   "source": [
    "delLength=3\n",
    "tmDes=52\n",
    "windowSize=14\n",
    "posArray=seqWalk(inputSequence,delLength,start=748,end=6879)\n",
    "#print(posArray)\n",
    "\n",
    "OF=\"delPrimer_output.txt\"\n",
    "\n",
    "with open(OF,\"w\") as outfile:\n",
    "    for i in posArray:\n",
    "        outputString=windowSizing(i, delLength, inputSequence, tmDes, windowSize)\n",
    "        outfile.write(outputString)\n",
    "        "
   ]
  },
  {
   "cell_type": "code",
   "execution_count": null,
   "id": "7ab01d22-496f-413d-b367-9609c1854e13",
   "metadata": {},
   "outputs": [],
   "source": [
    "delLength=3\n",
    "tmDes=52\n",
    "windowSize=14\n",
    "posArray=seqWalk(inputSequence,delLength,start=748,end=6879)\n",
    "#print(posArray)\n",
    "\n",
    "OF=\"delPrimer_output.txt\"\n",
    "\n",
    "with open(OF,\"w\") as outfile:\n",
    "    for i in posArray:\n",
    "        outputString=windowSizing(i, delLength, inputSequence, tmDes, windowSize)\n",
    "        outfile.write(outputString)\n",
    "        "
   ]
  },
  {
   "cell_type": "code",
   "execution_count": null,
   "id": "29b3ff2b-1e4e-42a4-9349-f603a403c61c",
   "metadata": {},
   "outputs": [],
   "source": []
  }
 ],
 "metadata": {
  "kernelspec": {
   "display_name": "Python 3 (ipykernel)",
   "language": "python",
   "name": "python3"
  },
  "language_info": {
   "codemirror_mode": {
    "name": "ipython",
    "version": 3
   },
   "file_extension": ".py",
   "mimetype": "text/x-python",
   "name": "python",
   "nbconvert_exporter": "python",
   "pygments_lexer": "ipython3",
   "version": "3.8.2"
  }
 },
 "nbformat": 4,
 "nbformat_minor": 5
}
